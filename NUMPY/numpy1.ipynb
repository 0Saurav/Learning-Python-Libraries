{
 "cells": [
  {
   "cell_type": "code",
   "execution_count": 91,
   "metadata": {},
   "outputs": [],
   "source": [
    "import numpy as np"
   ]
  },
  {
   "cell_type": "markdown",
   "metadata": {},
   "source": [
    "# ARRAY vs LIST"
   ]
  },
  {
   "cell_type": "code",
   "execution_count": 92,
   "metadata": {},
   "outputs": [
    {
     "name": "stdout",
     "output_type": "stream",
     "text": [
      "[1 2 3 4 5]\n"
     ]
    }
   ],
   "source": [
    "# ARRAY\n",
    "array = np.array([1, 2, 3, 4, 5])\n",
    "print(array)"
   ]
  },
  {
   "cell_type": "code",
   "execution_count": 93,
   "metadata": {},
   "outputs": [
    {
     "name": "stdout",
     "output_type": "stream",
     "text": [
      "(1, 2, 3, 4, 5)\n"
     ]
    }
   ],
   "source": [
    "# LIST\n",
    "list = (1, 2, 3, 4, 5)\n",
    "print(list)"
   ]
  },
  {
   "cell_type": "markdown",
   "metadata": {},
   "source": [
    "% TIMEIT    --> for one line\n",
    "\n",
    "%% TIMEIT   --> for whole program"
   ]
  },
  {
   "cell_type": "code",
   "execution_count": 94,
   "metadata": {},
   "outputs": [
    {
     "name": "stdout",
     "output_type": "stream",
     "text": [
      "755 ns ± 28.4 ns per loop (mean ± std. dev. of 7 runs, 1,000,000 loops each)\n"
     ]
    }
   ],
   "source": [
    "%timeit [j**4 for j in range(1,9)]"
   ]
  },
  {
   "cell_type": "code",
   "execution_count": 95,
   "metadata": {},
   "outputs": [
    {
     "name": "stdout",
     "output_type": "stream",
     "text": [
      "2.2 μs ± 50.4 ns per loop (mean ± std. dev. of 7 runs, 100,000 loops each)\n"
     ]
    }
   ],
   "source": [
    "%timeit np.arange(1,9)**4"
   ]
  },
  {
   "cell_type": "markdown",
   "metadata": {},
   "source": [
    "# NUMPY ARRAYS"
   ]
  },
  {
   "cell_type": "code",
   "execution_count": 96,
   "metadata": {},
   "outputs": [
    {
     "name": "stdout",
     "output_type": "stream",
     "text": [
      "[1 2 3 4 5]\n",
      "<class 'numpy.ndarray'>\n",
      "1\n"
     ]
    }
   ],
   "source": [
    "a = [1, 2, 3, 4, 5]\n",
    "\n",
    "b = np.array(a)\n",
    "\n",
    "print(b)\n",
    "print(type(b))\n",
    "b \n",
    "print(b.ndim)"
   ]
  },
  {
   "cell_type": "code",
   "execution_count": 97,
   "metadata": {},
   "outputs": [
    {
     "ename": "ValueError",
     "evalue": "invalid literal for int() with base 10: ''",
     "output_type": "error",
     "traceback": [
      "\u001b[1;31m---------------------------------------------------------------------------\u001b[0m",
      "\u001b[1;31mValueError\u001b[0m                                Traceback (most recent call last)",
      "Cell \u001b[1;32mIn[97], line 4\u001b[0m\n\u001b[0;32m      1\u001b[0m l \u001b[38;5;241m=\u001b[39m []\n\u001b[0;32m      3\u001b[0m \u001b[38;5;28;01mfor\u001b[39;00m i \u001b[38;5;129;01min\u001b[39;00m \u001b[38;5;28mrange\u001b[39m(\u001b[38;5;241m1\u001b[39m,\u001b[38;5;241m4\u001b[39m):\n\u001b[1;32m----> 4\u001b[0m     int_1 \u001b[38;5;241m=\u001b[39m \u001b[38;5;28;43mint\u001b[39;49m\u001b[43m(\u001b[49m\u001b[38;5;28;43minput\u001b[39;49m\u001b[43m(\u001b[49m\u001b[38;5;124;43m\"\u001b[39;49m\u001b[38;5;124;43mEnter: \u001b[39;49m\u001b[38;5;124;43m\"\u001b[39;49m\u001b[43m)\u001b[49m\u001b[43m)\u001b[49m\n\u001b[0;32m      5\u001b[0m     l\u001b[38;5;241m.\u001b[39mappend(int_1)\n\u001b[0;32m      7\u001b[0m \u001b[38;5;28mprint\u001b[39m(np\u001b[38;5;241m.\u001b[39marray(l))\n",
      "\u001b[1;31mValueError\u001b[0m: invalid literal for int() with base 10: ''"
     ]
    }
   ],
   "source": [
    "l = []\n",
    "\n",
    "for i in range(1,4):\n",
    "    int_1 = int(input(\"Enter: \"))\n",
    "    l.append(int_1)\n",
    "\n",
    "print(np.array(l))"
   ]
  },
  {
   "cell_type": "markdown",
   "metadata": {},
   "source": [
    "1-D || 2-D  || 3-D ARRAYS"
   ]
  },
  {
   "cell_type": "code",
   "execution_count": null,
   "metadata": {},
   "outputs": [
    {
     "name": "stdout",
     "output_type": "stream",
     "text": [
      "1\n"
     ]
    }
   ],
   "source": [
    "# 1-D Array\n",
    "arr1 = np.array([1, 2, 3, 4])\n",
    "print(arr1.ndim)"
   ]
  },
  {
   "cell_type": "code",
   "execution_count": null,
   "metadata": {},
   "outputs": [
    {
     "name": "stdout",
     "output_type": "stream",
     "text": [
      "[[1 2 3 4]\n",
      " [4 5 6 7]]\n",
      "2\n"
     ]
    }
   ],
   "source": [
    "# 2-D Array\n",
    "arr2 = np.array([[1, 2, 3, 4], [4, 5, 6, 7]])\n",
    "\n",
    "print(arr2)\n",
    "print(arr2.ndim)"
   ]
  },
  {
   "cell_type": "code",
   "execution_count": null,
   "metadata": {},
   "outputs": [
    {
     "name": "stdout",
     "output_type": "stream",
     "text": [
      "[[[1 2 3 4]\n",
      "  [4 5 6 7]\n",
      "  [8 9 0 6]]]\n",
      "3\n"
     ]
    }
   ],
   "source": [
    "# 3-D Array\n",
    "arr3 = np.array([[[1, 2, 3, 4],[4, 5, 6, 7],[8, 9, 0, 6]]])\n",
    "\n",
    "print(arr3)\n",
    "print(arr3.ndim)"
   ]
  },
  {
   "cell_type": "code",
   "execution_count": null,
   "metadata": {},
   "outputs": [
    {
     "name": "stdout",
     "output_type": "stream",
     "text": [
      "[[[[[[[1 2 3 4]]]]]]]\n",
      "7\n"
     ]
    }
   ],
   "source": [
    "# N-dim Array\n",
    "\n",
    "arrn = np.array([1, 2, 3, 4], ndmin = 7)\n",
    "\n",
    "print(arrn)\n",
    "print(arrn.ndim)"
   ]
  },
  {
   "cell_type": "markdown",
   "metadata": {},
   "source": [
    "# Creating Numpy Arrays with Numpy Functions"
   ]
  },
  {
   "cell_type": "code",
   "execution_count": null,
   "metadata": {},
   "outputs": [
    {
     "name": "stdout",
     "output_type": "stream",
     "text": [
      "[0. 0. 0.]\n",
      "\n",
      "[[0. 0. 0. 0.]\n",
      " [0. 0. 0. 0.]\n",
      " [0. 0. 0. 0.]]\n"
     ]
    }
   ],
   "source": [
    "# ZEROS\n",
    "\n",
    "ar_zero = np.zeros(3)   # 1-D\n",
    "ar_zero1 = np.zeros((3, 4))  # 2-D \n",
    "print(ar_zero)\n",
    "print()\n",
    "print(ar_zero1)"
   ]
  },
  {
   "cell_type": "code",
   "execution_count": null,
   "metadata": {},
   "outputs": [
    {
     "name": "stdout",
     "output_type": "stream",
     "text": [
      "[1. 1.]\n",
      "\n",
      "[[1. 1. 1.]\n",
      " [1. 1. 1.]\n",
      " [1. 1. 1.]]\n"
     ]
    }
   ],
   "source": [
    "# ONES\n",
    "\n",
    "ar_one = np.ones(2)\n",
    "ar_one1 = np.ones((3,3))\n",
    "print(ar_one)\n",
    "print()\n",
    "print(ar_one1)"
   ]
  },
  {
   "cell_type": "code",
   "execution_count": null,
   "metadata": {},
   "outputs": [
    {
     "name": "stdout",
     "output_type": "stream",
     "text": [
      "[[0. 0. 0. 0.]\n",
      " [0. 0. 0. 0.]\n",
      " [0. 0. 0. 0.]]\n"
     ]
    }
   ],
   "source": [
    "# Empty Array\n",
    "\n",
    "ar_empt = np.empty((3,4))\n",
    "print(ar_empt)"
   ]
  },
  {
   "cell_type": "code",
   "execution_count": null,
   "metadata": {},
   "outputs": [
    {
     "name": "stdout",
     "output_type": "stream",
     "text": [
      "[0 2 4 6 8]\n"
     ]
    }
   ],
   "source": [
    "# Range of Elements\n",
    "\n",
    "arr_range = np.arange(0, 10, 2)\n",
    "print(arr_range)"
   ]
  },
  {
   "cell_type": "code",
   "execution_count": null,
   "metadata": {},
   "outputs": [
    {
     "name": "stdout",
     "output_type": "stream",
     "text": [
      "[[1. 0. 0.]\n",
      " [0. 1. 0.]\n",
      " [0. 0. 1.]]\n"
     ]
    }
   ],
   "source": [
    "# Diagonal element filled with 1's\n",
    "\n",
    "arr_diag = np.eye(3)\n",
    "print(arr_diag)"
   ]
  },
  {
   "cell_type": "code",
   "execution_count": null,
   "metadata": {},
   "outputs": [
    {
     "name": "stdout",
     "output_type": "stream",
     "text": [
      "[[1. 0. 0. 0. 0.]\n",
      " [0. 1. 0. 0. 0.]\n",
      " [0. 0. 1. 0. 0.]]\n"
     ]
    }
   ],
   "source": [
    "# Diagonal element fir 3x5\n",
    "arr_diag = np.eye(3, 5)\n",
    "print(arr_diag)"
   ]
  },
  {
   "cell_type": "code",
   "execution_count": null,
   "metadata": {},
   "outputs": [
    {
     "name": "stdout",
     "output_type": "stream",
     "text": [
      "[ 0.   2.5  5.   7.5 10. ]\n"
     ]
    }
   ],
   "source": [
    "# Arrays with values that are spaced linearly in a specified interval\n",
    "\n",
    "arr_line_space = np.linspace(0, 10, num=5)\n",
    "print(arr_line_space)"
   ]
  },
  {
   "cell_type": "markdown",
   "metadata": {},
   "source": [
    "# Random Numbers"
   ]
  },
  {
   "cell_type": "code",
   "execution_count": null,
   "metadata": {},
   "outputs": [
    {
     "name": "stdout",
     "output_type": "stream",
     "text": [
      "[0.97165147 0.50077348 0.47195885 0.06572602 0.09432603]\n"
     ]
    }
   ],
   "source": [
    "# Rand()\n",
    "\n",
    "var = np.random.rand(5)   # generates 5 random number 1-D array\n",
    "\n",
    "print(var)        "
   ]
  },
  {
   "cell_type": "code",
   "execution_count": null,
   "metadata": {},
   "outputs": [
    {
     "name": "stdout",
     "output_type": "stream",
     "text": [
      "[[0.49954068 0.56282546 0.73432857 0.80632876 0.04019329]\n",
      " [0.22394685 0.29999373 0.8215422  0.77625783 0.52444971]]\n"
     ]
    }
   ],
   "source": [
    "var1 = np.random.rand(2,5)  # 2-D array\n",
    "\n",
    "print(var1)"
   ]
  },
  {
   "cell_type": "code",
   "execution_count": null,
   "metadata": {},
   "outputs": [
    {
     "name": "stdout",
     "output_type": "stream",
     "text": [
      "[[ 1.50301025  1.10276404 -1.25945281]\n",
      " [ 0.60973351 -0.67766304  1.17146656]\n",
      " [ 1.93305109 -1.4496177   0.68917861]\n",
      " [-0.8378518   0.4224466   0.45131726]]\n"
     ]
    }
   ],
   "source": [
    "# Randn()\n",
    "\n",
    "var2 = np.random.randn(4, 3)\n",
    "\n",
    "print(var2)"
   ]
  },
  {
   "cell_type": "code",
   "execution_count": null,
   "metadata": {},
   "outputs": [
    {
     "name": "stdout",
     "output_type": "stream",
     "text": [
      "[[0.65347488 0.71799464 0.57607254]\n",
      " [0.87756355 0.46243626 0.92346984]]\n"
     ]
    }
   ],
   "source": [
    "# ranf()\n",
    "\n",
    "var3 = np.random.ranf((2, 3))\n",
    "\n",
    "print(var3)"
   ]
  },
  {
   "cell_type": "code",
   "execution_count": null,
   "metadata": {},
   "outputs": [
    {
     "name": "stdout",
     "output_type": "stream",
     "text": [
      "[[3 6 4]\n",
      " [4 1 8]\n",
      " [6 2 1]\n",
      " [6 2 5]\n",
      " [2 3 5]]\n"
     ]
    }
   ],
   "source": [
    "# randint()\n",
    "\n",
    "var4 = np.random.randint(1,10,size= (5,3))\n",
    "\n",
    "print(var4)"
   ]
  },
  {
   "cell_type": "markdown",
   "metadata": {},
   "source": [
    "# Data Types"
   ]
  },
  {
   "cell_type": "code",
   "execution_count": null,
   "metadata": {},
   "outputs": [
    {
     "name": "stdout",
     "output_type": "stream",
     "text": [
      "Data Type:  int32\n"
     ]
    }
   ],
   "source": [
    "var = np.array([1, 2, 3, 4, 5])\n",
    "\n",
    "print(\"Data Type: \", var.dtype)"
   ]
  },
  {
   "cell_type": "code",
   "execution_count": null,
   "metadata": {},
   "outputs": [
    {
     "name": "stdout",
     "output_type": "stream",
     "text": [
      "Data Type:  float64\n"
     ]
    }
   ],
   "source": [
    "var = np.array([1.0 , 1.2, 1.3, 1.4, 1.5])\n",
    "\n",
    "print(\"Data Type: \", var.dtype)"
   ]
  },
  {
   "cell_type": "code",
   "execution_count": null,
   "metadata": {},
   "outputs": [
    {
     "name": "stdout",
     "output_type": "stream",
     "text": [
      "Data Type:  <U1\n"
     ]
    }
   ],
   "source": [
    "var = np.array([\"a\", \"e\", \"i\", \"o\", \"u\"])\n",
    "\n",
    "print(\"Data Type: \", var.dtype)"
   ]
  },
  {
   "cell_type": "code",
   "execution_count": null,
   "metadata": {},
   "outputs": [
    {
     "name": "stdout",
     "output_type": "stream",
     "text": [
      "Data Type:  <U11\n"
     ]
    }
   ],
   "source": [
    "var = np.array([\"a\", 2, \"i\", 4, \"u\"])\n",
    "\n",
    "print(\"Data Type: \", var.dtype)"
   ]
  },
  {
   "cell_type": "code",
   "execution_count": null,
   "metadata": {},
   "outputs": [
    {
     "name": "stdout",
     "output_type": "stream",
     "text": [
      "Data Type:  int32\n"
     ]
    }
   ],
   "source": [
    "x = np.array([1, 2, 3, 4])\n",
    "\n",
    "print(\"Data Type: \", x.dtype)"
   ]
  },
  {
   "cell_type": "code",
   "execution_count": null,
   "metadata": {},
   "outputs": [
    {
     "name": "stdout",
     "output_type": "stream",
     "text": [
      "Data Type:  int8\n"
     ]
    }
   ],
   "source": [
    "# TYpe Casting\n",
    "x = np.array([1, 2, 3, 4], dtype= np.int8)\n",
    "\n",
    "print(\"Data Type: \", x.dtype)"
   ]
  },
  {
   "cell_type": "code",
   "execution_count": null,
   "metadata": {},
   "outputs": [
    {
     "name": "stdout",
     "output_type": "stream",
     "text": [
      "Data Type:  float32\n",
      "[1. 2. 3. 4.]\n"
     ]
    }
   ],
   "source": [
    "x = np.array([1, 2, 3, 4], dtype= \"f\")\n",
    "\n",
    "print(\"Data Type: \", x.dtype)\n",
    "print(x)"
   ]
  },
  {
   "cell_type": "code",
   "execution_count": null,
   "metadata": {},
   "outputs": [
    {
     "name": "stdout",
     "output_type": "stream",
     "text": [
      "Data Type:  int32\n",
      "Data Type:  float32\n",
      "[1 2 3 4]\n",
      "[1. 2. 3. 4.]\n"
     ]
    }
   ],
   "source": [
    "x2 = np.array([1, 2, 3, 4])\n",
    "\n",
    "new = np.float32(x2)\n",
    "\n",
    "print(\"Data Type: \", x2.dtype)\n",
    "print(\"Data Type: \", new.dtype)\n",
    "\n",
    "print(x2)\n",
    "print(new)"
   ]
  },
  {
   "cell_type": "code",
   "execution_count": null,
   "metadata": {},
   "outputs": [
    {
     "name": "stdout",
     "output_type": "stream",
     "text": [
      "[1 2 3 4]\n",
      "[1. 2. 3. 4.]\n"
     ]
    }
   ],
   "source": [
    "# Changing data type\n",
    "x3 = np.array([1, 2, 3, 4])\n",
    "\n",
    "new_1 = x3.astype(float)\n",
    "\n",
    "print(x3)\n",
    "print(new_1)"
   ]
  },
  {
   "cell_type": "markdown",
   "metadata": {},
   "source": [
    "# Arithmetic Operation"
   ]
  },
  {
   "cell_type": "code",
   "execution_count": null,
   "metadata": {},
   "outputs": [
    {
     "name": "stdout",
     "output_type": "stream",
     "text": [
      "[4 5 6 7 8]\n"
     ]
    }
   ],
   "source": [
    "# add\n",
    "var = np.array([1, 2, 3, 4, 5])\n",
    "\n",
    "var_add = var + 3\n",
    "\n",
    "print(var_add)"
   ]
  },
  {
   "cell_type": "code",
   "execution_count": null,
   "metadata": {},
   "outputs": [
    {
     "name": "stdout",
     "output_type": "stream",
     "text": [
      "[ 2  4  6  8 10]\n"
     ]
    }
   ],
   "source": [
    "var1 = np.array([1, 2, 3, 4, 5])\n",
    "var2 = np.array([1, 2, 3, 4, 5])\n",
    "\n",
    "var_add = var1 + var2\n",
    "\n",
    "print(var_add)"
   ]
  },
  {
   "cell_type": "code",
   "execution_count": null,
   "metadata": {},
   "outputs": [
    {
     "name": "stdout",
     "output_type": "stream",
     "text": [
      "[ 3  6  9 12 15]\n"
     ]
    }
   ],
   "source": [
    "# multiply\n",
    "\n",
    "var = np.array([1, 2, 3, 4, 5])\n",
    "\n",
    "var_add = var * 3\n",
    "\n",
    "print(var_add)"
   ]
  },
  {
   "cell_type": "code",
   "execution_count": null,
   "metadata": {},
   "outputs": [
    {
     "name": "stdout",
     "output_type": "stream",
     "text": [
      "[-2 -1  0  1  2]\n"
     ]
    }
   ],
   "source": [
    "# subtract \n",
    "\n",
    "var = np.array([1, 2, 3, 4, 5])\n",
    "\n",
    "var_add = var - 3\n",
    "\n",
    "print(var_add)"
   ]
  },
  {
   "cell_type": "code",
   "execution_count": null,
   "metadata": {},
   "outputs": [
    {
     "name": "stdout",
     "output_type": "stream",
     "text": [
      "[1 2 0 1 2]\n"
     ]
    }
   ],
   "source": [
    "# modulo\n",
    "\n",
    "var = np.array([1, 2, 3, 4, 5])\n",
    "\n",
    "var_add = var % 3\n",
    "\n",
    "print(var_add)"
   ]
  },
  {
   "cell_type": "code",
   "execution_count": null,
   "metadata": {},
   "outputs": [
    {
     "name": "stdout",
     "output_type": "stream",
     "text": [
      "[0.33333333 0.66666667 1.         1.33333333 1.66666667]\n"
     ]
    }
   ],
   "source": [
    "# divide\n",
    "\n",
    "var = np.array([1, 2, 3, 4, 5])\n",
    "\n",
    "var_add = var / 3\n",
    "\n",
    "print(var_add)"
   ]
  },
  {
   "cell_type": "code",
   "execution_count": null,
   "metadata": {},
   "outputs": [
    {
     "name": "stdout",
     "output_type": "stream",
     "text": [
      "[ 2  4  6  8 10]\n"
     ]
    }
   ],
   "source": [
    "# Using functions to perform arithmetic tasks\n",
    "\n",
    "var1 = np.array([1, 2, 3, 4, 5])\n",
    "var2 = np.array([1, 2, 3, 4, 5])\n",
    "\n",
    "var_add = np.add(var1, var2)\n",
    "\n",
    "\n",
    "print(var_add)"
   ]
  },
  {
   "cell_type": "code",
   "execution_count": null,
   "metadata": {},
   "outputs": [
    {
     "name": "stdout",
     "output_type": "stream",
     "text": [
      "[1 0 0 0 0]\n"
     ]
    }
   ],
   "source": [
    "# reciprocal\n",
    "\n",
    "var = np.array([1, 2, 3, 4, 5])\n",
    "\n",
    "var_add = np.reciprocal(var)\n",
    "\n",
    "print(var_add)"
   ]
  },
  {
   "cell_type": "code",
   "execution_count": null,
   "metadata": {},
   "outputs": [
    {
     "name": "stdout",
     "output_type": "stream",
     "text": [
      "[[ 2  4  6  8 10]]\n"
     ]
    }
   ],
   "source": [
    "# In 2-D Array\n",
    "\n",
    "var21 = np.array([[1, 2, 3, 4, 5]])\n",
    "var22 = np.array([[1, 2, 3, 4, 5]])\n",
    "\n",
    "var_add2 = np.add(var21, var22)\n",
    "\n",
    "print(var_add2)"
   ]
  },
  {
   "cell_type": "code",
   "execution_count": null,
   "metadata": {},
   "outputs": [
    {
     "name": "stdout",
     "output_type": "stream",
     "text": [
      "[[1 2 3 4 5]\n",
      " [1 2 3 4 5]]\n",
      "\n",
      "[[1 2 3 4 5]\n",
      " [1 2 3 4 5]]\n",
      "\n",
      "[[ 2  4  6  8 10]\n",
      " [ 2  4  6  8 10]]\n"
     ]
    }
   ],
   "source": [
    "var21 = np.array([[1, 2, 3, 4, 5], [1, 2, 3, 4, 5]])\n",
    "var22 = np.array([[1, 2, 3, 4, 5], [1, 2, 3, 4, 5]])\n",
    "\n",
    "print(var21)\n",
    "print()\n",
    "print(var22)\n",
    "print()\n",
    "\n",
    "var_add2 = np.add(var21, var22)\n",
    "\n",
    "print(var_add2)"
   ]
  },
  {
   "cell_type": "markdown",
   "metadata": {},
   "source": [
    "# Arithmetic Functions"
   ]
  },
  {
   "cell_type": "code",
   "execution_count": null,
   "metadata": {},
   "outputs": [
    {
     "name": "stdout",
     "output_type": "stream",
     "text": [
      "1 0\n",
      "5 4\n"
     ]
    }
   ],
   "source": [
    "# min and max   and those values positions\n",
    "var = np.array([1, 2, 3, 4, 5])\n",
    "\n",
    "var_min = np.min(var)\n",
    "var_max = np.max(var)\n",
    "\n",
    "print(var_min, np.argmin(var))\n",
    "print(var_max, np.argmax(var))"
   ]
  },
  {
   "cell_type": "code",
   "execution_count": null,
   "metadata": {},
   "outputs": [
    {
     "name": "stdout",
     "output_type": "stream",
     "text": [
      "[1 2 3]\n",
      "[1 5]\n"
     ]
    }
   ],
   "source": [
    "var1 = np.array([[1, 2, 3], [9, 5, 6]])\n",
    "\n",
    "print(np.min(var1, axis=0))  # axis = 0 means column and 1 means rows\n",
    "print(np.min(var1, axis=1))"
   ]
  },
  {
   "cell_type": "code",
   "execution_count": null,
   "metadata": {},
   "outputs": [
    {
     "name": "stdout",
     "output_type": "stream",
     "text": [
      "[2. 3. 4. 5. 6.]\n"
     ]
    }
   ],
   "source": [
    "# square root\n",
    "\n",
    "var = np.array([4, 9, 16, 25, 36])\n",
    "\n",
    "var_sqrt = np.sqrt(var)\n",
    "print(var_sqrt)"
   ]
  },
  {
   "cell_type": "code",
   "execution_count": null,
   "metadata": {},
   "outputs": [
    {
     "name": "stdout",
     "output_type": "stream",
     "text": [
      "[-0.7568025   0.41211849 -0.28790332 -0.13235175 -0.99177885]\n",
      "[-0.65364362 -0.91113026 -0.95765948  0.99120281 -0.12796369]\n"
     ]
    }
   ],
   "source": [
    "# sin and cos\n",
    "\n",
    "var = np.array([4, 9, 16, 25, 36])\n",
    "\n",
    "var_sin = np.sin(var)\n",
    "var_cos = np.cos(var)\n",
    "\n",
    "print(var_sin)\n",
    "print(var_cos)"
   ]
  },
  {
   "cell_type": "code",
   "execution_count": null,
   "metadata": {},
   "outputs": [
    {
     "name": "stdout",
     "output_type": "stream",
     "text": [
      "[ 4 13 29 54 90]\n"
     ]
    }
   ],
   "source": [
    "# cumsum\n",
    "\n",
    "var = np.array([4, 9, 16, 25, 36])\n",
    "\n",
    "var_cumsum = np.cumsum(var)\n",
    "print(var_cumsum)"
   ]
  },
  {
   "cell_type": "markdown",
   "metadata": {},
   "source": [
    "# Shape and Reshape"
   ]
  },
  {
   "cell_type": "code",
   "execution_count": null,
   "metadata": {},
   "outputs": [
    {
     "name": "stdout",
     "output_type": "stream",
     "text": [
      "[[1 2]\n",
      " [1 2]]\n",
      "\n",
      "(2, 2)\n"
     ]
    }
   ],
   "source": [
    "# SHAPE\n",
    "\n",
    "var = np.array([[1, 2], [1, 2]])\n",
    "\n",
    "print(var)\n",
    "print()\n",
    "print(var.shape)"
   ]
  },
  {
   "cell_type": "code",
   "execution_count": null,
   "metadata": {},
   "outputs": [
    {
     "name": "stdout",
     "output_type": "stream",
     "text": [
      "[[[[[[[1 2 3 4]]]]]]]\n",
      "7\n",
      "\n",
      "(1, 1, 1, 1, 1, 1, 4)\n"
     ]
    }
   ],
   "source": [
    "var1 = np.array([1, 2, 3, 4], ndmin=7)\n",
    "\n",
    "print(var1)\n",
    "print(var1.ndim)\n",
    "print()\n",
    "print(var1.shape)"
   ]
  },
  {
   "cell_type": "code",
   "execution_count": null,
   "metadata": {},
   "outputs": [
    {
     "name": "stdout",
     "output_type": "stream",
     "text": [
      "[1 2 3 4 5 6 7 8 9]\n",
      "2\n",
      "\n",
      "[[1 2 3]\n",
      " [4 5 6]\n",
      " [7 8 9]]\n",
      "2\n"
     ]
    }
   ],
   "source": [
    "# RESHAPE\n",
    "\n",
    "var2 = np.array([1, 2, 3, 4, 5, 6, 7, 8, 9])\n",
    "print(var2)\n",
    "print(var.ndim)\n",
    "print()\n",
    "\n",
    "var_re = var2.reshape((3, 3))\n",
    "print(var_re)\n",
    "print(var_re.ndim)"
   ]
  },
  {
   "cell_type": "code",
   "execution_count": null,
   "metadata": {},
   "outputs": [
    {
     "name": "stdout",
     "output_type": "stream",
     "text": [
      "[ 1  2  3  4  5  6  7  8  9 10 11 12]\n",
      "1\n",
      "\n",
      "[[[ 1  2]\n",
      "  [ 3  4]\n",
      "  [ 5  6]]\n",
      "\n",
      " [[ 7  8]\n",
      "  [ 9 10]\n",
      "  [11 12]]]\n",
      "3\n"
     ]
    }
   ],
   "source": [
    "var3 = np.array([1, 2, 3, 4, 5, 6, 7, 8, 9, 10, 11, 12])\n",
    "print(var3)\n",
    "print(var3.ndim)\n",
    "print()\n",
    "\n",
    "var_re2 = var3.reshape(2, 3, 2)\n",
    "\n",
    "print(var_re2)\n",
    "print(var_re2.ndim)"
   ]
  },
  {
   "cell_type": "code",
   "execution_count": null,
   "metadata": {},
   "outputs": [
    {
     "name": "stdout",
     "output_type": "stream",
     "text": [
      "[ 1  2  3  4  5  6  7  8  9 10 11 12]\n",
      "1\n",
      "\n",
      "[[[ 1  2]\n",
      "  [ 3  4]\n",
      "  [ 5  6]]\n",
      "\n",
      " [[ 7  8]\n",
      "  [ 9 10]\n",
      "  [11 12]]]\n",
      "3\n",
      "\n",
      "[ 1  2  3  4  5  6  7  8  9 10 11 12]\n",
      "1\n"
     ]
    }
   ],
   "source": [
    "var3 = np.array([1, 2, 3, 4, 5, 6, 7, 8, 9, 10, 11, 12])\n",
    "\n",
    "print(var3)\n",
    "print(var3.ndim)\n",
    "print()\n",
    "\n",
    "var_re2 = var3.reshape(2, 3, 2)\n",
    "\n",
    "print(var_re2)\n",
    "print(var_re2.ndim)\n",
    "print()\n",
    "\n",
    "one = var_re2.reshape(-1)\n",
    "print(one)\n",
    "print(one.ndim)"
   ]
  },
  {
   "cell_type": "markdown",
   "metadata": {},
   "source": [
    "# Broadcasting"
   ]
  },
  {
   "cell_type": "code",
   "execution_count": null,
   "metadata": {},
   "outputs": [
    {
     "ename": "ValueError",
     "evalue": "operands could not be broadcast together with shapes (4,) (3,) ",
     "output_type": "error",
     "traceback": [
      "\u001b[1;31m---------------------------------------------------------------------------\u001b[0m",
      "\u001b[1;31mValueError\u001b[0m                                Traceback (most recent call last)",
      "Cell \u001b[1;32mIn[34], line 5\u001b[0m\n\u001b[0;32m      1\u001b[0m var1 \u001b[38;5;241m=\u001b[39m np\u001b[38;5;241m.\u001b[39marray([\u001b[38;5;241m1\u001b[39m, \u001b[38;5;241m2\u001b[39m, \u001b[38;5;241m3\u001b[39m, \u001b[38;5;241m4\u001b[39m])\n\u001b[0;32m      3\u001b[0m var2 \u001b[38;5;241m=\u001b[39m np\u001b[38;5;241m.\u001b[39marray([\u001b[38;5;241m1\u001b[39m, \u001b[38;5;241m2\u001b[39m, \u001b[38;5;241m3\u001b[39m])\n\u001b[1;32m----> 5\u001b[0m \u001b[38;5;28mprint\u001b[39m(\u001b[43mvar1\u001b[49m\u001b[43m \u001b[49m\u001b[38;5;241;43m+\u001b[39;49m\u001b[43m \u001b[49m\u001b[43mvar2\u001b[49m)\n",
      "\u001b[1;31mValueError\u001b[0m: operands could not be broadcast together with shapes (4,) (3,) "
     ]
    }
   ],
   "source": [
    "var1 = np.array([1, 2, 3, 4])\n",
    "\n",
    "var2 = np.array([1, 2, 3])\n",
    "\n",
    "print(var1 + var2)  # error"
   ]
  },
  {
   "cell_type": "code",
   "execution_count": null,
   "metadata": {},
   "outputs": [
    {
     "name": "stdout",
     "output_type": "stream",
     "text": [
      "[1 2 3 4]\n",
      "1\n",
      "(4,)\n",
      "\n",
      "[[1]\n",
      " [2]\n",
      " [3]]\n",
      "2\n",
      "(3, 1)\n",
      "\n",
      "[[2 3 4 5]\n",
      " [3 4 5 6]\n",
      " [4 5 6 7]]\n",
      "2\n",
      "(3, 4)\n"
     ]
    }
   ],
   "source": [
    "# dimension should be same if not that then one value should be same i.e. row or columns\n",
    "var1 = np.array([1, 2, 3, 4])\n",
    "print(var1)\n",
    "print(var1.ndim)\n",
    "print(var1.shape)\n",
    "print()\n",
    "\n",
    "var2 = np.array([[1], [2], [3]])\n",
    "print(var2)\n",
    "print(var2.ndim)\n",
    "print(var2.shape)\n",
    "print()\n",
    "\n",
    "print(var1 + var2)\n",
    "print((var1+var2).ndim)\n",
    "print((var1+var2).shape)"
   ]
  },
  {
   "cell_type": "code",
   "execution_count": null,
   "metadata": {},
   "outputs": [
    {
     "name": "stdout",
     "output_type": "stream",
     "text": [
      "(2, 1)\n",
      "(2, 3)\n",
      "[[2 3 4]\n",
      " [3 4 5]]\n"
     ]
    }
   ],
   "source": [
    "a = np.array([[1], [2]])\n",
    "print(a.shape)\n",
    "\n",
    "\n",
    "b = np.array([[1, 2, 3], [1, 2, 3]])\n",
    "print(b.shape)\n",
    "\n",
    "print(a+b)"
   ]
  },
  {
   "cell_type": "markdown",
   "metadata": {},
   "source": [
    "# Indexing & Slicing"
   ]
  },
  {
   "cell_type": "code",
   "execution_count": null,
   "metadata": {},
   "outputs": [
    {
     "name": "stdout",
     "output_type": "stream",
     "text": [
      "3\n",
      "3\n"
     ]
    }
   ],
   "source": [
    "# Indexing\n",
    "\n",
    "var1 = np.array([1, 2, 3, 4, 5])\n",
    "#                0  1  2  3  4\n",
    "#                    -3 -2  -1\n",
    "print(var1[2])\n",
    "print(var1[-3])\n"
   ]
  },
  {
   "cell_type": "code",
   "execution_count": null,
   "metadata": {},
   "outputs": [
    {
     "name": "stdout",
     "output_type": "stream",
     "text": [
      "[[7 8 9]\n",
      " [4 5 6]]\n",
      "2\n",
      "\n",
      "8\n"
     ]
    }
   ],
   "source": [
    "var2 = np.array([[7, 8, 9], [4, 5, 6]])\n",
    "\n",
    "print(var2)\n",
    "print(var2.ndim)\n",
    "print()\n",
    "\n",
    "print(var2[0,1])   # row no, element no"
   ]
  },
  {
   "cell_type": "code",
   "execution_count": null,
   "metadata": {},
   "outputs": [
    {
     "name": "stdout",
     "output_type": "stream",
     "text": [
      "[[[7 8 9]\n",
      "  [4 5 6]\n",
      "  [1 2 3]]]\n",
      "3\n",
      "\n",
      "5\n"
     ]
    }
   ],
   "source": [
    "var3 = np.array([[[7, 8, 9], [4, 5, 6], [1, 2, 3]]])\n",
    "\n",
    "print(var3)\n",
    "print(var3.ndim)\n",
    "print()\n",
    "\n",
    "print(var3[0,1,1])  # slice no, row no, element no"
   ]
  },
  {
   "cell_type": "code",
   "execution_count": null,
   "metadata": {},
   "outputs": [
    {
     "name": "stdout",
     "output_type": "stream",
     "text": [
      "[1 2 3 4 5 6 7]\n",
      "\n",
      "[2 4]\n",
      "[3 4 5 6 7]\n",
      "[1 2 3 4 5]\n",
      "[1 3 5 7]\n",
      "[7 6 5 4 3 2 1]\n"
     ]
    }
   ],
   "source": [
    "# Slicing\n",
    "\n",
    "var = np.array([1, 2, 3, 4, 5, 6, 7])\n",
    "\n",
    "print(var)\n",
    "print()\n",
    "print(var[1:5:2])   # starting point  : stopping point : step\n",
    "\n",
    "print(var[2:])  # 3 onwards\n",
    "\n",
    "print(var[:5])  # before 6\n",
    "\n",
    "print(var[::2])  # everything with jump of 2 steps\n",
    "\n",
    "print(var[::-1])  # reverse everything\n",
    "\n"
   ]
  },
  {
   "cell_type": "code",
   "execution_count": null,
   "metadata": {},
   "outputs": [
    {
     "name": "stdout",
     "output_type": "stream",
     "text": [
      "[[ 1  2  3  4  5]\n",
      " [ 6  7  8  9 10]\n",
      " [11 12 13 14 15]]\n",
      "2\n",
      "\n",
      "[7 9]\n"
     ]
    }
   ],
   "source": [
    "var1 = np.array([[1, 2, 3, 4, 5], [6, 7, 8, 9, 10], [11, 12, 13, 14, 15]])\n",
    "\n",
    "print(var1)\n",
    "print(var1.ndim)\n",
    "print()\n",
    "\n",
    "print(var1[1,1:5:2])   # slice no. ,   starting point : stopping point : steps"
   ]
  },
  {
   "cell_type": "markdown",
   "metadata": {},
   "source": [
    "# Iteration"
   ]
  },
  {
   "cell_type": "code",
   "execution_count": null,
   "metadata": {},
   "outputs": [
    {
     "name": "stdout",
     "output_type": "stream",
     "text": [
      "[1 2 3 4 5 6 7]\n",
      "\n",
      "2\n",
      "3\n"
     ]
    }
   ],
   "source": [
    "var = np.array([1, 2, 3 , 4, 5, 6, 7])\n",
    "print(var)\n",
    "print()\n",
    "\n",
    "for i in var:\n",
    "    print(i)"
   ]
  },
  {
   "cell_type": "code",
   "execution_count": null,
   "metadata": {},
   "outputs": [
    {
     "name": "stdout",
     "output_type": "stream",
     "text": [
      "[[1 2 3 4 5]\n",
      " [1 2 3 4 5]]\n",
      "\n",
      "[1 2 3 4 5]\n",
      "[1 2 3 4 5]\n",
      "\n",
      "1\n",
      "2\n",
      "3\n",
      "4\n",
      "5\n",
      "1\n",
      "2\n",
      "3\n",
      "4\n",
      "5\n"
     ]
    }
   ],
   "source": [
    "var1 = np.array([[1, 2, 3, 4, 5], [1, 2, 3 ,4, 5]])\n",
    "print(var1)\n",
    "print()\n",
    "\n",
    "for j in var1:\n",
    "    print(j)   # two blocks will br printed\n",
    "\n",
    "print()\n",
    "\n",
    "for k in var1:\n",
    "    for l in k:\n",
    "        print(l)\n"
   ]
  },
  {
   "cell_type": "code",
   "execution_count": null,
   "metadata": {},
   "outputs": [
    {
     "name": "stdout",
     "output_type": "stream",
     "text": [
      "[[[1 2 3 4]\n",
      "  [1 2 3 4]\n",
      "  [1 2 3 4]]]\n",
      "\n",
      "1\n",
      "2\n",
      "3\n",
      "4\n",
      "1\n",
      "2\n",
      "3\n",
      "4\n",
      "1\n",
      "2\n",
      "3\n",
      "4\n"
     ]
    }
   ],
   "source": [
    "var2 = np.array([[[1,2,3,4], [1,2,3,4], [1,2,3,4]]])\n",
    "print(var2)\n",
    "print()\n",
    "\n",
    "for i in var2:\n",
    "    for j in i:\n",
    "        for k in j:\n",
    "            print(k)"
   ]
  },
  {
   "cell_type": "code",
   "execution_count": null,
   "metadata": {},
   "outputs": [
    {
     "name": "stdout",
     "output_type": "stream",
     "text": [
      "[[[1 2 3 4]\n",
      "  [1 2 3 4]\n",
      "  [1 2 3 4]]]\n",
      "\n",
      "1\n",
      "2\n",
      "3\n",
      "4\n",
      "1\n",
      "2\n",
      "3\n",
      "4\n",
      "1\n",
      "2\n",
      "3\n",
      "4\n",
      "\n",
      "(0, 0, 0) 1\n",
      "(0, 0, 1) 2\n",
      "(0, 0, 2) 3\n",
      "(0, 0, 3) 4\n",
      "(0, 1, 0) 1\n",
      "(0, 1, 1) 2\n",
      "(0, 1, 2) 3\n",
      "(0, 1, 3) 4\n",
      "(0, 2, 0) 1\n",
      "(0, 2, 1) 2\n",
      "(0, 2, 2) 3\n",
      "(0, 2, 3) 4\n"
     ]
    }
   ],
   "source": [
    "# Using nditer function\n",
    "\n",
    "\n",
    "var2 = np.array([[[1,2,3,4], [1,2,3,4], [1,2,3,4]]])\n",
    "print(var2)\n",
    "print()\n",
    "\n",
    "for i in np.nditer(var2):    # gets data\n",
    "    print(i)\n",
    "\n",
    "print()\n",
    "\n",
    "for i,d in np.ndenumerate(var2):  # gets data and index number at once\n",
    "    print(i,d)"
   ]
  },
  {
   "cell_type": "markdown",
   "metadata": {},
   "source": [
    "# Copy vs View"
   ]
  },
  {
   "cell_type": "code",
   "execution_count": null,
   "metadata": {},
   "outputs": [
    {
     "name": "stdout",
     "output_type": "stream",
     "text": [
      "Var: [ 1 20  3  4]\n",
      "Copy: [1 2 3 4]\n"
     ]
    }
   ],
   "source": [
    "var = np.array([1, 2, 3, 4])\n",
    "\n",
    "copy = var.copy()\n",
    "\n",
    "var[1] = 20\n",
    "\n",
    "print(\"Var:\", var)\n",
    "print(\"Copy:\", copy)"
   ]
  },
  {
   "cell_type": "code",
   "execution_count": null,
   "metadata": {},
   "outputs": [
    {
     "name": "stdout",
     "output_type": "stream",
     "text": [
      "a: [ 5 40  3  2  1]\n",
      "view: [ 5 40  3  2  1]\n"
     ]
    }
   ],
   "source": [
    "a = np.array([5, 4, 3, 2, 1])\n",
    "\n",
    "view = a.view()\n",
    "\n",
    "a[1] = 40\n",
    "\n",
    "print(\"a:\", a)\n",
    "print(\"view:\", view)"
   ]
  },
  {
   "cell_type": "markdown",
   "metadata": {},
   "source": [
    "# Joining & Split in NumPy Arrays"
   ]
  },
  {
   "cell_type": "code",
   "execution_count": null,
   "metadata": {},
   "outputs": [
    {
     "name": "stdout",
     "output_type": "stream",
     "text": [
      "[1 2 3 4 6 7 8 9]\n"
     ]
    }
   ],
   "source": [
    "# Join Array\n",
    "\n",
    "var = np.array([1, 2, 3, 4])\n",
    "var1 = np.array([6, 7, 8, 9])\n",
    "\n",
    "arr = np.concatenate((var, var1))\n",
    "\n",
    "print(arr)"
   ]
  },
  {
   "cell_type": "code",
   "execution_count": null,
   "metadata": {},
   "outputs": [
    {
     "name": "stdout",
     "output_type": "stream",
     "text": [
      "[[1 2]\n",
      " [3 4]]\n",
      "\n",
      "[[6 7]\n",
      " [8 9]]\n",
      "\n",
      "[[1 2 6 7]\n",
      " [3 4 8 9]]\n"
     ]
    }
   ],
   "source": [
    "# 2-D Array\n",
    "a = np.array([[1, 2], [3, 4]])\n",
    "b = np.array([[6, 7], [8, 9]])\n",
    "\n",
    "arr = np.concatenate((a, b), axis=1)   # 0 = row ||  1 = column\n",
    "\n",
    "print(a)\n",
    "print()\n",
    "print(b)\n",
    "print()\n",
    "print(arr)"
   ]
  },
  {
   "cell_type": "code",
   "execution_count": null,
   "metadata": {},
   "outputs": [
    {
     "name": "stdout",
     "output_type": "stream",
     "text": [
      "[[1 6]\n",
      " [2 7]\n",
      " [3 8]\n",
      " [4 9]]\n"
     ]
    }
   ],
   "source": [
    "var = np.array([1, 2, 3, 4])\n",
    "var1 = np.array([6, 7, 8, 9])\n",
    "\n",
    "arr = np.stack((var, var1), axis=1)\n",
    "\n",
    "print(arr)"
   ]
  },
  {
   "cell_type": "code",
   "execution_count": null,
   "metadata": {},
   "outputs": [
    {
     "name": "stdout",
     "output_type": "stream",
     "text": [
      "[1 2 3 4 6 7 8 9]\n"
     ]
    }
   ],
   "source": [
    "# h stack\n",
    "var = np.array([1, 2, 3, 4])\n",
    "var1 = np.array([6, 7, 8, 9])\n",
    "\n",
    "arr = np.hstack((var, var1))\n",
    "\n",
    "\n",
    "print(arr)"
   ]
  },
  {
   "cell_type": "code",
   "execution_count": null,
   "metadata": {},
   "outputs": [
    {
     "name": "stdout",
     "output_type": "stream",
     "text": [
      "[[1 2 3 4]\n",
      " [6 7 8 9]]\n"
     ]
    }
   ],
   "source": [
    "# v stack\n",
    "var = np.array([1, 2, 3, 4])\n",
    "var1 = np.array([6, 7, 8, 9])\n",
    "\n",
    "arr = np.vstack((var, var1))\n",
    "\n",
    "print(arr)\n"
   ]
  },
  {
   "cell_type": "code",
   "execution_count": null,
   "metadata": {},
   "outputs": [
    {
     "name": "stdout",
     "output_type": "stream",
     "text": [
      "[[[1 6]\n",
      "  [2 7]\n",
      "  [3 8]\n",
      "  [4 9]]]\n"
     ]
    }
   ],
   "source": [
    "# d stack\n",
    "var = np.array([1, 2, 3, 4])\n",
    "var1 = np.array([6, 7, 8, 9])\n",
    "\n",
    "arr = np.dstack((var, var1))\n",
    "\n",
    "print(arr)"
   ]
  },
  {
   "cell_type": "code",
   "execution_count": null,
   "metadata": {},
   "outputs": [
    {
     "name": "stdout",
     "output_type": "stream",
     "text": [
      "[[1 6]\n",
      " [2 7]\n",
      " [3 8]\n",
      " [4 9]]\n",
      "\n",
      "[1 2 3 4 6 7 8 9]\n",
      "\n",
      "[[1 2 3 4]\n",
      " [6 7 8 9]]\n",
      "\n",
      "[[[1 6]\n",
      "  [2 7]\n",
      "  [3 8]\n",
      "  [4 9]]]\n"
     ]
    }
   ],
   "source": [
    "# All combined\n",
    "\n",
    "var = np.array([1, 2, 3, 4])\n",
    "var1 = np.array([6, 7, 8, 9])\n",
    "\n",
    "arr = np.stack((var, var1), axis=1)\n",
    "arr1 = np.hstack((var, var1))  # row   or axis 0\n",
    "arr2 = np.vstack((var, var1))  # columns   or axis 1\n",
    "arr3 = np.dstack((var, var1))  # height\n",
    " \n",
    "\n",
    "print(arr)\n",
    "print()\n",
    "print(arr1)\n",
    "print()\n",
    "print(arr2)\n",
    "print()\n",
    "print(arr3)"
   ]
  },
  {
   "cell_type": "code",
   "execution_count": null,
   "metadata": {},
   "outputs": [
    {
     "name": "stdout",
     "output_type": "stream",
     "text": [
      "[1 2 3 4 5 6]\n",
      "\n",
      "[array([1, 2]), array([3, 4]), array([5, 6])]\n",
      "\n",
      "[1 2]\n"
     ]
    }
   ],
   "source": [
    "# Split Array\n",
    "\n",
    "var = np.array([1, 2, 3, 4, 5, 6])\n",
    "\n",
    "print(var)\n",
    "print()\n",
    "\n",
    "split_arr = np.array_split(var, 3)\n",
    "print(split_arr)\n",
    "print()\n",
    "print(split_arr[0])"
   ]
  },
  {
   "cell_type": "code",
   "execution_count": null,
   "metadata": {},
   "outputs": [
    {
     "name": "stdout",
     "output_type": "stream",
     "text": [
      "[[1 2]\n",
      " [3 4]\n",
      " [5 6]]\n",
      "\n",
      "[array([[1, 2]]), array([[3, 4]]), array([[5, 6]])]\n",
      "\n",
      "[array([[1],\n",
      "       [3],\n",
      "       [5]]), array([[2],\n",
      "       [4],\n",
      "       [6]]), array([], shape=(3, 0), dtype=int32)]\n",
      "\n",
      "[[1 2]]\n"
     ]
    }
   ],
   "source": [
    "# 2-D Array\n",
    "var1 = np.array([[1, 2], [3, 4], [5, 6]])\n",
    "\n",
    "print(var1)\n",
    "print()\n",
    "\n",
    "split_arr1 = np.array_split(var1, 3)\n",
    "split_arr2 = np.array_split(var1, 3, axis=1)\n",
    "\n",
    "print(split_arr1)\n",
    "print()\n",
    "print(split_arr2)\n",
    "print()\n",
    "print(split_arr1[0])"
   ]
  },
  {
   "cell_type": "markdown",
   "metadata": {},
   "source": [
    "# NumPy Arrays Functions"
   ]
  },
  {
   "cell_type": "code",
   "execution_count": null,
   "metadata": {},
   "outputs": [
    {
     "name": "stdout",
     "output_type": "stream",
     "text": [
      "(array([ 2,  5, 11], dtype=int64),)\n",
      "(array([0, 1, 3, 4, 5, 6], dtype=int64),)\n"
     ]
    }
   ],
   "source": [
    "# Search\n",
    "\n",
    "var = np.array([1, 2, 3, 4, 5, 3, 4, 2, 1, 6, 4, 3, 7])\n",
    "var1 = np.array([4, 2, 3, 4, 2, 6, 8, 7])\n",
    "\n",
    "\n",
    "x = np.where(var == 3)\n",
    "\n",
    "y = np.where(var1 % 2 == 0)\n",
    "\n",
    "\n",
    "print(x)\n",
    "print(y)"
   ]
  },
  {
   "cell_type": "code",
   "execution_count": null,
   "metadata": {},
   "outputs": [
    {
     "name": "stdout",
     "output_type": "stream",
     "text": [
      "[4 4 4]\n"
     ]
    }
   ],
   "source": [
    "var2 = np.array([1, 2, 3, 4, 8, 9, 10])\n",
    "\n",
    "\n",
    "z = np.searchsorted(var2, [5, 6, 7], side=\"left\")\n",
    "\n",
    "print(z)"
   ]
  },
  {
   "cell_type": "code",
   "execution_count": null,
   "metadata": {},
   "outputs": [
    {
     "name": "stdout",
     "output_type": "stream",
     "text": [
      "[ 1  1  2  3  3  4  4  5  6  7  8 10]\n",
      "['a' 'b' 'c' 'x' 'y' 'z']\n"
     ]
    }
   ],
   "source": [
    "# Sort\n",
    "\n",
    "var = np.array([5, 1, 8, 3, 4, 2, 1, 6, 10, 4, 3, 7])\n",
    "\n",
    "var1 = np.array([\"b\", \"z\", \"a\", \"x\", \"c\", \"y\"])\n",
    "\n",
    "print(np.sort(var))\n",
    "print(np.sort(var1))\n",
    "\n",
    "\n",
    "\n"
   ]
  },
  {
   "cell_type": "code",
   "execution_count": null,
   "metadata": {},
   "outputs": [
    {
     "name": "stdout",
     "output_type": "stream",
     "text": [
      "[[ 1  2  3]\n",
      " [10 11 12]\n",
      " [ 4  8  9]]\n"
     ]
    }
   ],
   "source": [
    "var2 = np.array([[2, 3, 1], [11, 10, 12], [9, 4, 8]])\n",
    "\n",
    "print(np.sort(var2))"
   ]
  },
  {
   "cell_type": "code",
   "execution_count": null,
   "metadata": {},
   "outputs": [
    {
     "name": "stdout",
     "output_type": "stream",
     "text": [
      "['a' 'i' 'o' 'e' 'u']\n",
      "<class 'numpy.ndarray'>\n"
     ]
    }
   ],
   "source": [
    "# Filter Array\n",
    "\n",
    "var = np.array([\"a\", \"s\", \"i\", \"d\", \"o\", \"x\", \"e\", \"u\"])\n",
    "\n",
    "f = [True, False, True, False, True, False, True, True]\n",
    "\n",
    "new_a = var[f]\n",
    "\n",
    "print(new_a)\n",
    "print(type(new_a))"
   ]
  },
  {
   "cell_type": "code",
   "execution_count": null,
   "metadata": {},
   "outputs": [
    {
     "name": "stdout",
     "output_type": "stream",
     "text": [
      "[3 1 4 5 2]\n"
     ]
    }
   ],
   "source": [
    "# Shuffle\n",
    "\n",
    "var = np.array([1, 2, 3, 4, 5])\n",
    "\n",
    "np.random.shuffle(var)\n",
    "\n",
    "print(var)"
   ]
  },
  {
   "cell_type": "code",
   "execution_count": null,
   "metadata": {},
   "outputs": [
    {
     "name": "stdout",
     "output_type": "stream",
     "text": [
      "(array([1, 2, 3, 4, 5, 6]), array([0, 1, 3, 4, 7, 8], dtype=int64))\n"
     ]
    }
   ],
   "source": [
    "# Unique\n",
    "\n",
    "var = np.array([1, 2, 1, 3, 4, 3, 2, 5, 6, 4, 2, 1])\n",
    "\n",
    "unique_var = np.unique(var, return_index= True)\n",
    "\n",
    "print(unique_var)"
   ]
  },
  {
   "cell_type": "code",
   "execution_count": null,
   "metadata": {},
   "outputs": [
    {
     "name": "stdout",
     "output_type": "stream",
     "text": [
      "[[1 2 3]\n",
      " [4 5 6]]\n"
     ]
    }
   ],
   "source": [
    "# Resize\n",
    "\n",
    "var1 = np.array([1, 2, 3, 4, 5, 6])\n",
    "\n",
    "y = np.resize(var1, (2, 3))     # variable, (rows, column)\n",
    " \n",
    "print(y)"
   ]
  },
  {
   "cell_type": "code",
   "execution_count": null,
   "metadata": {},
   "outputs": [
    {
     "name": "stdout",
     "output_type": "stream",
     "text": [
      "[[1 2 3]\n",
      " [4 5 6]]\n",
      "\n",
      "[1 4 2 5 3 6]\n",
      "[1 4 2 5 3 6]\n"
     ]
    }
   ],
   "source": [
    "# Flatten\n",
    "\n",
    "var1 = np.array([1, 2, 3, 4, 5, 6])\n",
    "\n",
    "y = np.resize(var1, (2, 3))  \n",
    "print(y)\n",
    "print()\n",
    "\n",
    "print(y.flatten(order='f'))     # f = column_based  and c = row focused\n",
    "\n",
    "print(np.ravel(y, order = \"f\"))"
   ]
  },
  {
   "cell_type": "code",
   "execution_count": null,
   "metadata": {},
   "outputs": [
    {
     "name": "stdout",
     "output_type": "stream",
     "text": [
      "[1 2 0 4 3]\n"
     ]
    }
   ],
   "source": [
    "arr = np.array([3, 1, 2, 5, 4])\n",
    "\n",
    "indices = np.argsort(arr)    # if placed in this way sorted array will get displayed\n",
    "print(indices)"
   ]
  },
  {
   "cell_type": "markdown",
   "metadata": {},
   "source": [
    "# Insert and Delete"
   ]
  },
  {
   "cell_type": "code",
   "execution_count": null,
   "metadata": {},
   "outputs": [
    {
     "name": "stdout",
     "output_type": "stream",
     "text": [
      "[1 2 3 4 5]\n",
      "<class 'numpy.ndarray'>\n"
     ]
    },
    {
     "data": {
      "text/plain": [
       "array([1, 2, 3, 4, 7, 5, 7])"
      ]
     },
     "execution_count": 65,
     "metadata": {},
     "output_type": "execute_result"
    }
   ],
   "source": [
    "# Insert\n",
    "\n",
    "var = np.array([1, 2, 3, 4, 5])\n",
    "\n",
    "print(var)\n",
    "print(type(var))\n",
    "\n",
    "\n",
    "np.insert(var, 5, 6)       # variable, index number, inserting value\n",
    "np.insert(var, (4, 5), 7)"
   ]
  },
  {
   "cell_type": "code",
   "execution_count": null,
   "metadata": {},
   "outputs": [
    {
     "name": "stdout",
     "output_type": "stream",
     "text": [
      "[[1 2 3]\n",
      " [1 2 3]\n",
      " [6 6 6]]\n",
      "\n",
      "[[1 2 6 3]\n",
      " [1 2 6 3]]\n"
     ]
    }
   ],
   "source": [
    "var1 = np.array([[1, 2, 3], [1, 2, 3]])\n",
    "\n",
    "v1_row = np.insert(var1, 2, 6, axis = 0)\n",
    "v1_col = np.insert(var1, 2, 6, axis = 1)  # variable, index number, inserting value, axis\n",
    "\n",
    "print(v1_row)\n",
    "print()\n",
    "print(v1_col)"
   ]
  },
  {
   "cell_type": "code",
   "execution_count": null,
   "metadata": {},
   "outputs": [
    {
     "name": "stdout",
     "output_type": "stream",
     "text": [
      "[1.  2.  3.  4.  5.  6.5]\n"
     ]
    }
   ],
   "source": [
    "# append\n",
    "\n",
    "var = np.array([1, 2, 3, 4, 5])\n",
    "\n",
    "a = np.append(var, 6.5)\n",
    "\n",
    "print(a)"
   ]
  },
  {
   "cell_type": "code",
   "execution_count": null,
   "metadata": {},
   "outputs": [
    {
     "name": "stdout",
     "output_type": "stream",
     "text": [
      "[[1 2 3]\n",
      " [4 5 6]\n",
      " [7 8 9]]\n"
     ]
    }
   ],
   "source": [
    "var1 = np.array([[1, 2, 3], [4, 5, 6]])\n",
    "\n",
    "v1 = np.append(var1, [[7, 8, 9]], axis=0)\n",
    "\n",
    "print(v1)"
   ]
  },
  {
   "cell_type": "code",
   "execution_count": null,
   "metadata": {},
   "outputs": [
    {
     "name": "stdout",
     "output_type": "stream",
     "text": [
      "[1 2 3 4 5]\n",
      "\n",
      "[1 2 4 5 6]\n"
     ]
    }
   ],
   "source": [
    "# Delete\n",
    "\n",
    "var = np.array([1, 2, 3, 4, 5])\n",
    "\n",
    "print(var)\n",
    "print()\n",
    "\n",
    "d = np.delete(var1, 2)\n",
    "print(d)"
   ]
  },
  {
   "cell_type": "markdown",
   "metadata": {},
   "source": [
    "# Matrix in Numpy Arrays"
   ]
  },
  {
   "cell_type": "code",
   "execution_count": null,
   "metadata": {},
   "outputs": [
    {
     "name": "stdout",
     "output_type": "stream",
     "text": [
      "[[1 2 3]\n",
      " [1 2 3]]\n",
      "<class 'numpy.matrix'>\n",
      "\n",
      "[[1 2 3]\n",
      " [1 2 3]]\n",
      "<class 'numpy.ndarray'>\n"
     ]
    }
   ],
   "source": [
    "# matrix\n",
    "var_max = np.matrix([[1, 2, 3], [1, 2, 3]])\n",
    "\n",
    "# array\n",
    "var_arr = np.array([[1, 2, 3], [1, 2, 3]])\n",
    "\n",
    "print(var_max)\n",
    "print(type(var_max))\n",
    "print()\n",
    "print(var_arr)\n",
    "print(type(var_arr))"
   ]
  },
  {
   "cell_type": "code",
   "execution_count": null,
   "metadata": {},
   "outputs": [
    {
     "name": "stdout",
     "output_type": "stream",
     "text": [
      "[[1 2]\n",
      " [1 2]]\n",
      "<class 'numpy.matrix'>\n",
      "\n",
      "[[2 4]\n",
      " [2 4]]\n",
      "\n",
      "[[0 0]\n",
      " [0 0]]\n"
     ]
    }
   ],
   "source": [
    "# addition & subtraction\n",
    "a = np.matrix([[1, 2], [1, 2]])\n",
    "b = np.matrix([[1, 2], [1, 2]])\n",
    "\n",
    "print(a)\n",
    "print(type(a))\n",
    "print()\n",
    "print(a + b)\n",
    "print()\n",
    "print(a-b)"
   ]
  },
  {
   "cell_type": "code",
   "execution_count": null,
   "metadata": {},
   "outputs": [
    {
     "name": "stdout",
     "output_type": "stream",
     "text": [
      "[[1 2]\n",
      " [1 2]]\n",
      "[[1 2]\n",
      " [1 2]]\n",
      "<class 'numpy.matrix'>\n",
      "\n",
      "[[3 6]\n",
      " [3 6]]\n"
     ]
    }
   ],
   "source": [
    "# dot function\n",
    "a = np.matrix([[1, 2], [1, 2]])\n",
    "b = np.matrix([[1, 2], [1, 2]])\n",
    "\n",
    "print(a)\n",
    "print(b)\n",
    "print(type(a))\n",
    "print()\n",
    "print(a.dot(b))"
   ]
  },
  {
   "cell_type": "markdown",
   "metadata": {},
   "source": [
    "# Matrix Function in NumPy Arrays"
   ]
  },
  {
   "cell_type": "code",
   "execution_count": 101,
   "metadata": {},
   "outputs": [
    {
     "name": "stdout",
     "output_type": "stream",
     "text": [
      "[[1 2 3]\n",
      " [4 5 6]]\n",
      "\n",
      "[[1 4]\n",
      " [2 5]\n",
      " [3 6]]\n",
      "\n",
      "[[1 4]\n",
      " [2 5]\n",
      " [3 6]]\n"
     ]
    }
   ],
   "source": [
    "# Transpose\n",
    "\n",
    "var = np.matrix([[1, 2, 3], [4, 5, 6]])\n",
    "print(var)\n",
    "print()\n",
    "\n",
    "print(np.transpose(var))\n",
    "print()\n",
    "print(var.T)"
   ]
  },
  {
   "cell_type": "code",
   "execution_count": 105,
   "metadata": {},
   "outputs": [
    {
     "name": "stdout",
     "output_type": "stream",
     "text": [
      "[[1 2 3]\n",
      " [4 5 6]]\n",
      "\n",
      "[[1 4]\n",
      " [2 5]\n",
      " [3 6]]\n"
     ]
    }
   ],
   "source": [
    "# Swapaxes\n",
    "var = np.matrix([[1, 2, 3], [4, 5, 6]])\n",
    "print(var)\n",
    "print()\n",
    "\n",
    "print(np.swapaxes(var, 0, 1))\n"
   ]
  },
  {
   "cell_type": "code",
   "execution_count": 106,
   "metadata": {},
   "outputs": [
    {
     "name": "stdout",
     "output_type": "stream",
     "text": [
      "[[1 2]\n",
      " [3 4]]\n",
      "\n",
      "[[1 3]\n",
      " [2 4]]\n"
     ]
    }
   ],
   "source": [
    "var1 = np.matrix([[1, 2], [3, 4]])\n",
    "print(var1)\n",
    "print()\n",
    "print(np.swapaxes(var1, 0, 1))"
   ]
  },
  {
   "cell_type": "code",
   "execution_count": 110,
   "metadata": {},
   "outputs": [
    {
     "name": "stdout",
     "output_type": "stream",
     "text": [
      "[[1 2]\n",
      " [3 4]]\n",
      "\n",
      "[[-2.   1. ]\n",
      " [ 1.5 -0.5]]\n"
     ]
    }
   ],
   "source": [
    "# Inverse\n",
    "\n",
    "var = np.matrix([[1, 2], [3, 4]])\n",
    "print(var)\n",
    "print()\n",
    "\n",
    "print(np.linalg.inv(var))"
   ]
  },
  {
   "cell_type": "code",
   "execution_count": 122,
   "metadata": {},
   "outputs": [
    {
     "name": "stdout",
     "output_type": "stream",
     "text": [
      "[[1 2]\n",
      " [3 4]]\n",
      "\n",
      "[[ 7 10]\n",
      " [15 22]]\n",
      "\n",
      "[[1 0]\n",
      " [0 1]]\n",
      "\n",
      "[[ 5.5  -2.5 ]\n",
      " [-3.75  1.75]]\n"
     ]
    }
   ],
   "source": [
    "# Power\n",
    "\n",
    "var = np.matrix([[1, 2], [3, 4]])\n",
    "print(var)\n",
    "print()\n",
    "\n",
    "\n",
    "print(np.linalg.matrix_power(var, 2))\n",
    "print()\n",
    "print(np.linalg.matrix_power(var, 0))\n",
    "print()\n",
    "print(np.linalg.matrix_power(var, -2))"
   ]
  },
  {
   "cell_type": "code",
   "execution_count": 124,
   "metadata": {},
   "outputs": [
    {
     "name": "stdout",
     "output_type": "stream",
     "text": [
      "[[1 2 3]\n",
      " [3 4 3]\n",
      " [1 2 3]]\n",
      "\n",
      "0.0\n"
     ]
    }
   ],
   "source": [
    "# Determinant\n",
    "\n",
    "var = np.matrix([[1, 2, 3], [3, 4, 3], [1, 2, 3]])\n",
    "print(var)\n",
    "print()\n",
    "\n",
    "print(np.linalg.det(var))"
   ]
  }
 ],
 "metadata": {
  "kernelspec": {
   "display_name": "Python 3",
   "language": "python",
   "name": "python3"
  },
  "language_info": {
   "codemirror_mode": {
    "name": "ipython",
    "version": 3
   },
   "file_extension": ".py",
   "mimetype": "text/x-python",
   "name": "python",
   "nbconvert_exporter": "python",
   "pygments_lexer": "ipython3",
   "version": "3.12.3"
  }
 },
 "nbformat": 4,
 "nbformat_minor": 2
}
